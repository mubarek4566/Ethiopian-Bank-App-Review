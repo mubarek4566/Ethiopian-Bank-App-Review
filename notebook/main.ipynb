{
 "cells": [
  {
   "cell_type": "code",
   "execution_count": null,
   "id": "1fb516ea",
   "metadata": {},
   "outputs": [],
   "source": [
    "from google_play_scraper import Sort, reviews\n",
    "import pandas as pd\n",
    "import time\n",
    "\n",
    "import os\n",
    "import sys\n",
    "\n",
    "# Load other functions\n",
    "sys.path.append(os.path.abspath('../src'))\n",
    "sys.path.append(os.path.abspath('../scripts'))\n",
    "\n",
    "from data_scraper import ScrapData"
   ]
  },
  {
   "cell_type": "code",
   "execution_count": 3,
   "id": "fad644de",
   "metadata": {},
   "outputs": [],
   "source": [
    "# Initialize scraper\n",
    "scraper = ScrapData()"
   ]
  },
  {
   "cell_type": "code",
   "execution_count": 4,
   "id": "9c166ed3",
   "metadata": {},
   "outputs": [],
   "source": [
    "# App IDs\n",
    "apps = {\n",
    "    #\"CBE\": \"com.combanketh.mobilebanking\",\n",
    "    #\"BOA\": \"com.boa.boaMobileBanking\",\n",
    "    \"Dashen\": \"com.cr2.amolelight\"\n",
    "}\n",
    "all_data = []\n"
   ]
  },
  {
   "cell_type": "code",
   "execution_count": 5,
   "id": "fadc1852",
   "metadata": {},
   "outputs": [
    {
     "name": "stdout",
     "output_type": "stream",
     "text": [
      "\n",
      "Fetching reviews for Dashen...\n",
      "Fetched 400 unique reviews for Dashen\n",
      "Dashen - 400 reviews fetched.\n"
     ]
    }
   ],
   "source": [
    "# Fetch reviews for each app\n",
    "for app_name, app_id in apps.items():\n",
    "    print(f\"\\nFetching reviews for {app_name}...\")\n",
    "    df = scraper.fetch_reviews(app_id, app_name, n_reviews=400)\n",
    "    print(f\"{app_name} - {len(df)} reviews fetched.\")\n",
    "    all_data.append(df)\n",
    "\n",
    "# Combine all into one DataFrame\n",
    "Banks_df = pd.concat(all_data, ignore_index=True)"
   ]
  },
  {
   "cell_type": "code",
   "execution_count": 6,
   "id": "e451d25c",
   "metadata": {},
   "outputs": [
    {
     "name": "stdout",
     "output_type": "stream",
     "text": [
      "✅ All reviews saved to 'bank_reviews_raw.csv'\n"
     ]
    }
   ],
   "source": [
    "\n",
    "Banks_df.to_csv(\"../Data/Dashen_reviews_raw.csv\", index=False)\n",
    "print(\"✅ All reviews saved to 'bank_reviews_raw.csv'\")\n"
   ]
  },
  {
   "cell_type": "code",
   "execution_count": 7,
   "id": "4f2ed1bd",
   "metadata": {},
   "outputs": [
    {
     "data": {
      "text/html": [
       "<div>\n",
       "<style scoped>\n",
       "    .dataframe tbody tr th:only-of-type {\n",
       "        vertical-align: middle;\n",
       "    }\n",
       "\n",
       "    .dataframe tbody tr th {\n",
       "        vertical-align: top;\n",
       "    }\n",
       "\n",
       "    .dataframe thead th {\n",
       "        text-align: right;\n",
       "    }\n",
       "</style>\n",
       "<table border=\"1\" class=\"dataframe\">\n",
       "  <thead>\n",
       "    <tr style=\"text-align: right;\">\n",
       "      <th></th>\n",
       "      <th>reviewId</th>\n",
       "      <th>userName</th>\n",
       "      <th>content</th>\n",
       "      <th>score</th>\n",
       "      <th>at</th>\n",
       "      <th>app_name</th>\n",
       "    </tr>\n",
       "  </thead>\n",
       "  <tbody>\n",
       "    <tr>\n",
       "      <th>0</th>\n",
       "      <td>2b25348c-1a20-482c-814e-648572cf6dd9</td>\n",
       "      <td>Hayat Abdulahi</td>\n",
       "      <td>best</td>\n",
       "      <td>5</td>\n",
       "      <td>2025-06-05 08:34:06</td>\n",
       "      <td>Dashen</td>\n",
       "    </tr>\n",
       "    <tr>\n",
       "      <th>1</th>\n",
       "      <td>21595904-0dbf-4eb3-bb27-98f67bd618ab</td>\n",
       "      <td>Tewodros Tsegayeed</td>\n",
       "      <td>nice application</td>\n",
       "      <td>4</td>\n",
       "      <td>2025-05-27 14:41:03</td>\n",
       "      <td>Dashen</td>\n",
       "    </tr>\n",
       "    <tr>\n",
       "      <th>2</th>\n",
       "      <td>b925631c-a63d-48d9-9852-68aed0898c12</td>\n",
       "      <td>gadisa worku</td>\n",
       "      <td>best</td>\n",
       "      <td>5</td>\n",
       "      <td>2025-05-22 23:11:40</td>\n",
       "      <td>Dashen</td>\n",
       "    </tr>\n",
       "    <tr>\n",
       "      <th>3</th>\n",
       "      <td>e0f868ee-be62-4ad5-8976-c5e3ee6f1cd9</td>\n",
       "      <td>Surafel Mershu</td>\n",
       "      <td>bast smart bank sistem dashen amole dashen bamk</td>\n",
       "      <td>5</td>\n",
       "      <td>2025-05-17 09:25:53</td>\n",
       "      <td>Dashen</td>\n",
       "    </tr>\n",
       "    <tr>\n",
       "      <th>4</th>\n",
       "      <td>b7d8df4f-45dc-44a1-ac3d-85d46177e7b8</td>\n",
       "      <td>Abdulkarim Abdala</td>\n",
       "      <td>best app</td>\n",
       "      <td>5</td>\n",
       "      <td>2025-05-16 16:30:27</td>\n",
       "      <td>Dashen</td>\n",
       "    </tr>\n",
       "    <tr>\n",
       "      <th>...</th>\n",
       "      <td>...</td>\n",
       "      <td>...</td>\n",
       "      <td>...</td>\n",
       "      <td>...</td>\n",
       "      <td>...</td>\n",
       "      <td>...</td>\n",
       "    </tr>\n",
       "    <tr>\n",
       "      <th>395</th>\n",
       "      <td>70951a6f-26ef-49de-8f9a-39384f78fccc</td>\n",
       "      <td>Anwar Kedir</td>\n",
       "      <td>Good and reliable service</td>\n",
       "      <td>5</td>\n",
       "      <td>2023-03-19 21:52:46</td>\n",
       "      <td>Dashen</td>\n",
       "    </tr>\n",
       "    <tr>\n",
       "      <th>396</th>\n",
       "      <td>15eb1d2a-87e5-4075-a961-dad92dd0bee7</td>\n",
       "      <td>Dashen Bank Deder Branch</td>\n",
       "      <td>Best app I have ever seen woderfull, always on...</td>\n",
       "      <td>5</td>\n",
       "      <td>2023-03-19 14:06:24</td>\n",
       "      <td>Dashen</td>\n",
       "    </tr>\n",
       "    <tr>\n",
       "      <th>397</th>\n",
       "      <td>35ada4ca-0639-478b-b9a5-378ddb3769f7</td>\n",
       "      <td>Behailu Gashaw</td>\n",
       "      <td>Good apps</td>\n",
       "      <td>5</td>\n",
       "      <td>2023-03-19 13:51:25</td>\n",
       "      <td>Dashen</td>\n",
       "    </tr>\n",
       "    <tr>\n",
       "      <th>398</th>\n",
       "      <td>e331ee97-7303-40b9-a1ed-3fdd48498cb3</td>\n",
       "      <td>Ayanle Awcali</td>\n",
       "      <td>Good application for people needs</td>\n",
       "      <td>5</td>\n",
       "      <td>2023-03-18 23:28:12</td>\n",
       "      <td>Dashen</td>\n",
       "    </tr>\n",
       "    <tr>\n",
       "      <th>399</th>\n",
       "      <td>84c4d3fb-55f1-4bf4-9028-3a025763a1a6</td>\n",
       "      <td>abenezer tesfaye</td>\n",
       "      <td>What the hell are you doing. How can you relea...</td>\n",
       "      <td>1</td>\n",
       "      <td>2023-03-18 13:13:42</td>\n",
       "      <td>Dashen</td>\n",
       "    </tr>\n",
       "  </tbody>\n",
       "</table>\n",
       "<p>400 rows × 6 columns</p>\n",
       "</div>"
      ],
      "text/plain": [
       "                                 reviewId                  userName  \\\n",
       "0    2b25348c-1a20-482c-814e-648572cf6dd9            Hayat Abdulahi   \n",
       "1    21595904-0dbf-4eb3-bb27-98f67bd618ab        Tewodros Tsegayeed   \n",
       "2    b925631c-a63d-48d9-9852-68aed0898c12              gadisa worku   \n",
       "3    e0f868ee-be62-4ad5-8976-c5e3ee6f1cd9            Surafel Mershu   \n",
       "4    b7d8df4f-45dc-44a1-ac3d-85d46177e7b8         Abdulkarim Abdala   \n",
       "..                                    ...                       ...   \n",
       "395  70951a6f-26ef-49de-8f9a-39384f78fccc               Anwar Kedir   \n",
       "396  15eb1d2a-87e5-4075-a961-dad92dd0bee7  Dashen Bank Deder Branch   \n",
       "397  35ada4ca-0639-478b-b9a5-378ddb3769f7            Behailu Gashaw   \n",
       "398  e331ee97-7303-40b9-a1ed-3fdd48498cb3             Ayanle Awcali   \n",
       "399  84c4d3fb-55f1-4bf4-9028-3a025763a1a6          abenezer tesfaye   \n",
       "\n",
       "                                               content  score  \\\n",
       "0                                                 best      5   \n",
       "1                                     nice application      4   \n",
       "2                                                 best      5   \n",
       "3      bast smart bank sistem dashen amole dashen bamk      5   \n",
       "4                                             best app      5   \n",
       "..                                                 ...    ...   \n",
       "395                          Good and reliable service      5   \n",
       "396  Best app I have ever seen woderfull, always on...      5   \n",
       "397                                          Good apps      5   \n",
       "398                  Good application for people needs      5   \n",
       "399  What the hell are you doing. How can you relea...      1   \n",
       "\n",
       "                      at app_name  \n",
       "0    2025-06-05 08:34:06   Dashen  \n",
       "1    2025-05-27 14:41:03   Dashen  \n",
       "2    2025-05-22 23:11:40   Dashen  \n",
       "3    2025-05-17 09:25:53   Dashen  \n",
       "4    2025-05-16 16:30:27   Dashen  \n",
       "..                   ...      ...  \n",
       "395  2023-03-19 21:52:46   Dashen  \n",
       "396  2023-03-19 14:06:24   Dashen  \n",
       "397  2023-03-19 13:51:25   Dashen  \n",
       "398  2023-03-18 23:28:12   Dashen  \n",
       "399  2023-03-18 13:13:42   Dashen  \n",
       "\n",
       "[400 rows x 6 columns]"
      ]
     },
     "execution_count": 7,
     "metadata": {},
     "output_type": "execute_result"
    }
   ],
   "source": [
    "Dashin = pd.read_csv('../Data/Dashen_reviews_raw.csv')\n",
    "CBE_BOA = pd.read_csv('../Data/CBE&BOA_reviews_raw.csv')\n",
    "Dashin"
   ]
  },
  {
   "cell_type": "code",
   "execution_count": 8,
   "id": "db6c24d5",
   "metadata": {},
   "outputs": [],
   "source": [
    "# Combine all reviews into a single DataFrame\n",
    "Banks_df = pd.concat([CBE_BOA, Dashin])"
   ]
  },
  {
   "cell_type": "code",
   "execution_count": 10,
   "id": "09fdfdf6",
   "metadata": {},
   "outputs": [
    {
     "data": {
      "text/plain": [
       "(1600, 6)"
      ]
     },
     "execution_count": 10,
     "metadata": {},
     "output_type": "execute_result"
    }
   ],
   "source": [
    "Banks_df.shape"
   ]
  },
  {
   "cell_type": "code",
   "execution_count": 17,
   "id": "ae5b585c",
   "metadata": {},
   "outputs": [
    {
     "name": "stdout",
     "output_type": "stream",
     "text": [
      "<class 'pandas.core.frame.DataFrame'>\n",
      "Index: 1600 entries, 0 to 399\n",
      "Data columns (total 6 columns):\n",
      " #   Column    Non-Null Count  Dtype \n",
      "---  ------    --------------  ----- \n",
      " 0   reviewId  1600 non-null   object\n",
      " 1   userName  1600 non-null   object\n",
      " 2   content   1600 non-null   object\n",
      " 3   score     1600 non-null   int64 \n",
      " 4   at        1600 non-null   object\n",
      " 5   app_name  1600 non-null   object\n",
      "dtypes: int64(1), object(5)\n",
      "memory usage: 87.5+ KB\n"
     ]
    }
   ],
   "source": [
    "Banks_df.info()"
   ]
  },
  {
   "cell_type": "code",
   "execution_count": 11,
   "id": "66900613",
   "metadata": {},
   "outputs": [
    {
     "data": {
      "text/plain": [
       "app_name\n",
       "CBE       600\n",
       "BOA       600\n",
       "Dashen    400\n",
       "Name: count, dtype: int64"
      ]
     },
     "execution_count": 11,
     "metadata": {},
     "output_type": "execute_result"
    }
   ],
   "source": [
    "Banks_df['app_name'].value_counts()"
   ]
  },
  {
   "cell_type": "code",
   "execution_count": 15,
   "id": "49ece1d7",
   "metadata": {},
   "outputs": [
    {
     "data": {
      "text/plain": [
       "np.int64(0)"
      ]
     },
     "execution_count": 15,
     "metadata": {},
     "output_type": "execute_result"
    }
   ],
   "source": [
    "Banks_df.duplicated().sum()"
   ]
  },
  {
   "cell_type": "code",
   "execution_count": 16,
   "id": "71f05580",
   "metadata": {},
   "outputs": [
    {
     "data": {
      "text/plain": [
       "reviewId    0\n",
       "userName    0\n",
       "content     0\n",
       "score       0\n",
       "at          0\n",
       "app_name    0\n",
       "dtype: int64"
      ]
     },
     "execution_count": 16,
     "metadata": {},
     "output_type": "execute_result"
    }
   ],
   "source": [
    "Banks_df.isna().sum()"
   ]
  },
  {
   "cell_type": "code",
   "execution_count": 18,
   "id": "b240c730",
   "metadata": {},
   "outputs": [],
   "source": [
    "# Rename columns\n",
    "Banks_df = Banks_df.rename(columns={\n",
    "    'reviewId': 'reviewId',\n",
    "    'userName': 'userName',\n",
    "    'content': 'review',\n",
    "    'score': 'rating',\n",
    "    'at': 'date'\n",
    "})\n",
    "\n",
    "# Select and reorder necessary columns\n",
    "Banks_df = Banks_df[['reviewId', 'userName', 'review', 'rating', 'date']]\n",
    "Banks_df['bank'] = app_name\n",
    "Banks_df['source'] = 'Google Play'\n"
   ]
  },
  {
   "cell_type": "code",
   "execution_count": 19,
   "id": "cc1b8939",
   "metadata": {},
   "outputs": [],
   "source": [
    "# Normalize dates\n",
    "Banks_df['date'] = pd.to_datetime(Banks_df['date']).dt.date "
   ]
  },
  {
   "cell_type": "code",
   "execution_count": 20,
   "id": "c7cc6c3a",
   "metadata": {},
   "outputs": [
    {
     "name": "stdout",
     "output_type": "stream",
     "text": [
      "Saved preprocessed data to Preprocessed data\n"
     ]
    }
   ],
   "source": [
    "Banks_df = Banks_df[['reviewId', 'userName', 'review', 'rating', 'date', 'bank', 'source']]\n",
    "Banks_df.to_csv(\"../Data/Preprocessed_bank_data.csv\", index=False)\n",
    "print(f\"Saved preprocessed data to Preprocessed data\")"
   ]
  }
 ],
 "metadata": {
  "kernelspec": {
   "display_name": "Python 3",
   "language": "python",
   "name": "python3"
  },
  "language_info": {
   "codemirror_mode": {
    "name": "ipython",
    "version": 3
   },
   "file_extension": ".py",
   "mimetype": "text/x-python",
   "name": "python",
   "nbconvert_exporter": "python",
   "pygments_lexer": "ipython3",
   "version": "3.12.8"
  }
 },
 "nbformat": 4,
 "nbformat_minor": 5
}
